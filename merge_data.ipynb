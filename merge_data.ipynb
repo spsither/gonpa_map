{
 "cells": [
  {
   "cell_type": "code",
   "execution_count": 2,
   "metadata": {},
   "outputs": [],
   "source": [
    "import pandas as pd\n",
    "import os\n",
    "\n",
    "directory_path = \"./data/Tibet\""
   ]
  },
  {
   "cell_type": "code",
   "execution_count": 3,
   "metadata": {},
   "outputs": [],
   "source": [
    "def get_xlsx_columns(file_path):\n",
    "    \"\"\"Returns the column names of an xlsx file.\"\"\"\n",
    "    df = pd.read_excel(file_path)\n",
    "    return df.columns.tolist()"
   ]
  },
  {
   "cell_type": "code",
   "execution_count": 4,
   "metadata": {},
   "outputs": [
    {
     "name": "stdout",
     "output_type": "stream",
     "text": [
      "Gansu_P2_02.19.2025.xlsx ['SN_id', 'SN_Lat', 'SN_Long', 'Verified', 'Unverified', 'Research Consultant', 'Remarks', 'id', 'name', 'lat_new', 'long_new', 'located in', 'the_geom_new_old_tol', 'cartodb_id_new_old_tol', 'chgis_id', 'altname_wylie', 'name_ch', 'name_py', 'town_ch', 'town_py', 'town_syl', 'gbcnty', 'cnty_ch', 'cnty_py', 'gbdist', 'dist_py', 'prov_py', 'orig_file', 'lat_old', 'long_old', 'gbtown_from_lex', 'gis_id_from_lex', 'name_wylie_from_lex', 'gbtown_from_tbrc', 'gis_id_from_tbrc', 'wylie_name_from_karl', 'normalized_wylie_name_tbrc', 'county', 'tbrc_county_g_', 'tbrc_county_notes', 'tbrc_site_g_', 'tbrc_site_notes', 'alternative_wylie_name', 'tbrc_phonetic', 'phonetic', 'primary_chinese_cha', 'alternative_chinese_cha', 'pinyin_name', 'founding', 'sect', 'gonpa_per_1000_sq_km', 'gonpa_per_ecumen', 'conv_date_1', 'conv_sect_1', 'conv_date_2', 'conv_sect_2', 'notes', 'problems', 'tol_id', 'tbrc_id', 'branch_of', 'primary_name', 'wylie_name', 'tibetan_name', 'chinese_name', 'name_variants', 'traditions', 'place_types', 'founded_date', 'founded_date_approximate', 'founded_date_alternate', 'founded_century', 'existed_by_century', 'lat_new_old_tol', 'long_new_old_tol', 'description', 'wikidata_id', 'the_geom_cur', 'cartodb_id_cur', 'affiliation', 'founded', 'karl_id', 'name_zh_py', 'name_zh', 'name_bo', 'name_bo_wy', 'rid', 'long_cur', 'lat_cur']\n",
      "Yunnan_P2_02.19.2025.xlsx ['SN_id', 'SN_Lat', 'SN_Long', 'Verified', 'Unverified', 'Research Consultant', 'Remarks', 'name', 'lat_new', 'long_new', 'located in', 'the_geom_new_old_tol', 'cartodb_id_new_old_tol', 'chgis_id', 'altname_wylie', 'name_ch', 'name_py', 'town_ch', 'town_py', 'town_syl', 'gbcnty', 'cnty_ch', 'cnty_py', 'gbdist', 'dist_py', 'prov_py', 'orig_file', 'lat_old', 'long_old', 'gbtown_from_lex', 'gis_id_from_lex', 'name_wylie_from_lex', 'gbtown_from_tbrc', 'gis_id_from_tbrc', 'wylie_name_from_karl', 'normalized_wylie_name_tbrc', 'county', 'tbrc_county_g_', 'tbrc_county_notes', 'tbrc_site_g_', 'tbrc_site_notes', 'alternative_wylie_name', 'tbrc_phonetic', 'phonetic', 'primary_chinese_cha', 'alternative_chinese_cha', 'pinyin_name', 'founding', 'sect', 'gonpa_per_1000_sq_km', 'gonpa_per_ecumen', 'conv_date_1', 'conv_sect_1', 'conv_date_2', 'conv_sect_2', 'notes', 'problems', 'tol_id', 'tbrc_id', 'branch_of', 'primary_name', 'wylie_name', 'tibetan_name', 'chinese_name', 'name_variants', 'traditions', 'place_types', 'founded_date', 'founded_date_approximate', 'founded_date_alternate', 'founded_century', 'existed_by_century', 'lat_new_old_tol', 'long_new_old_tol', 'description', 'wikidata_id', 'the_geom_cur', 'cartodb_id_cur', 'affiliation', 'founded', 'karl_id', 'name_zh_py', 'name_zh', 'name_bo', 'name_bo_wy', 'rid', 'lat_cur', 'long_cur']\n",
      "Sichuan_P2_02.19.2025.xlsx ['SN_id', 'SN_Lat', 'SN_Long', 'Verified', 'Unverified', 'Research Consultant', 'Remarks', 'Reference', 'Tibetan Name', 'id', 'Alternate Name', 'name', 'lat_new', 'long_new', 'located in', 'the_geom_new_old_tol', 'cartodb_id_new_old_tol', 'chgis_id', 'altname_wylie', 'name_ch', 'name_py', 'town_ch', 'town_py', 'town_syl', 'gbcnty', 'cnty_ch', 'cnty_pn', 'gbdist', 'dist_py', 'prov_py', 'orig_file', 'lat_old', 'long_old', 'gbtown_from_lex', 'gis_id_from_lex', 'name_wylie_from_lex', 'gbtown_from_tbrc', 'gis_id_from_tbrc', 'wylie_name_from_karl', 'normalized_wylie_name_tbrc', 'county', 'tbrc_county_g_', 'tbrc_county_notes', 'tbrc_site_g_', 'tbrc_site_notes', 'alternative_wylie_name', 'tbrc_phonetic', 'phonetic', 'primary_chinese_cha', 'alternative_chinese_cha', 'pinyin_name', 'founding', 'sect', 'gonpa_per_1000_sq_km', 'gonpa_per_ecumen', 'conv_date_1', 'conv_sect_1', 'conv_date_2', 'conv_sect_2', 'notes', 'problems', 'tol_id', 'tbrc_id', 'branch_of', 'primary_name', 'wylie_name', 'tibetan_name', 'chinese_name', 'name_variants', 'traditions', 'place_types', 'founded_date', 'founded_date_approximate', 'founded_date_alternate', 'founded_century', 'existed_by_century', 'lat_new_old_tol', 'long_new_old_tol', 'description', 'wikidata_id', 'the_geom_cur', 'cartodb_id_cur', 'affiliation', 'founded', 'karl_id', 'name_zh_py', 'name_zh', 'name_bo', 'name_bo_wy', 'rid', 'long_cur', 'lat_cur']\n"
     ]
    },
    {
     "name": "stderr",
     "output_type": "stream",
     "text": [
      "/home/spsither/Documents/GitHub/gonpa_map/.env/lib/python3.12/site-packages/openpyxl/worksheet/_reader.py:329: UserWarning: Unknown extension is not supported and will be removed\n",
      "  warn(msg)\n"
     ]
    },
    {
     "name": "stdout",
     "output_type": "stream",
     "text": [
      "TAR_P2_02.19.2025.xlsx ['SN_Id', 'SN_Lat', 'SN_Long', 'Verified', 'Unverified', ' Research Consultant', 'Remarks', 'Reference', 'Tibetan Name', 'id', 'name', 'lat_new', 'long_new', 'located in', 'the_geom_new_old_tol', 'cartodb_id_new_old_tol', 'chgis_id', 'altname_wylie', 'name_ch', 'name_py', 'town_ch', 'town_py', 'town_syl', 'gbcnty', 'cnty_ch', 'cnty_py', 'gbdist', 'Distt', 'prov_py', 'orig_file', 'lat_old', 'long_old', 'gbtown_from_lex', 'gis_id_from_lex', 'name_wylie_from_lex', 'gbtown_from_tbrc', 'gis_id_from_tbrc', 'wylie_name_from_karl', 'normalized_wylie_name_tbrc', 'county', 'tbrc_county_g_', 'tbrc_county_notes', 'tbrc_site_g_', 'tbrc_site_notes', 'alternative_wylie_name', 'tbrc_phonetic', 'phonetic', 'primary_chinese_cha', 'alternative_chinese_cha', 'pinyin_name', 'founding', 'sect', 'gonpa_per_1000_sq_km', 'gonpa_per_ecumen', 'conv_date_1', 'conv_sect_1', 'conv_date_2', 'conv_sect_2', 'notes', 'problems', 'tol_id', 'tbrc_id', 'branch_of', 'primary_name', 'wylie_name', 'tibetan_name', 'chinese_name', 'name_variants', 'traditions', 'place_types', 'founded_date', 'founded_date_approximate', 'founded_date_alternate', 'founded_century', 'existed_by_century', 'lat_new_old_tol', 'long_new_old_tol', 'description', 'wikidata_id', 'the_geom_cur', 'cartodb_id_cur', 'affiliation', 'founded', 'karl_id', 'name_zh_py', 'name_zh', 'name_bo', 'name_bo_wy', 'rid', 'lat_cur', 'long_cur']\n",
      "Qinghai_P2_02.19.2025.xlsx ['SN_id', 'SN_Lat', 'SN_Long', 'Verified', 'UnVerified', 'Research Consultant', 'Remarks', 'id', 'name', 'lat_new', 'long_new', 'located in', 'the_geom_new_old_tol', 'cartodb_id_new_old_tol', 'chgis_id', 'altname_wylie', 'name_ch', 'name_py', 'town_ch', 'town_py', 'town_syl', 'gbcnty', 'cnty_ch', 'cnty_p', 'gbdist', 'dist_py', 'proV_py', 'orig_file', 'lat_old', 'long_old', 'gbtown_from_lex', 'gis_id_from_lex', 'name_wylie_from_lex', 'gbtown_from_tbrc', 'gis_id_from_tbrc', 'wylie_name_from_karl', 'normalized_wylie_name_tbrc', 'county', 'tbrc_county_g_', 'tbrc_county_notes', 'tbrc_site_g_', 'tbrc_site_notes', 'alternatiVe_wylie_name', 'tbrc_phonetic', 'phonetic', 'primary_chinese_cha', 'alternatiVe_chinese_cha', 'pinyin_name', 'founding', 'sect', 'gonpa_per_1000_sq_km', 'gonpa_per_ecumen', 'conV_date_1', 'conV_sect_1', 'conV_date_2', 'conV_sect_2', 'notes', 'problems', 'tol_id', 'tbrc_id', 'branch_of', 'primary_name', 'wylie_name', 'tibetan_name', 'chinese_name', 'name_Variants', 'traditions', 'place_types', 'founded_date', 'founded_date_approximate', 'founded_date_alternate', 'founded_century', 'existed_by_century', 'lat_new_old_tol', 'long_new_old_tol', 'description', 'wikidata_id', 'the_geom_cur', 'cartodb_id_cur', 'affiliation', 'founded', 'karl_id', 'name_zh_py', 'name_zh', '.', 'name_bo_wy', 'rid', 'long_cur', 'lat_cur']\n"
     ]
    }
   ],
   "source": [
    "for file in os.listdir(directory_path):\n",
    "    if file.endswith(\".xlsx\"):\n",
    "        file_path = os.path.join(directory_path, file)\n",
    "        cols = get_xlsx_columns(file_path)\n",
    "        print(file, cols)"
   ]
  },
  {
   "cell_type": "code",
   "execution_count": 11,
   "metadata": {},
   "outputs": [
    {
     "name": "stderr",
     "output_type": "stream",
     "text": [
      "/home/spsither/Documents/GitHub/gonpa_map/.env/lib/python3.12/site-packages/openpyxl/worksheet/_reader.py:329: UserWarning: Unknown extension is not supported and will be removed\n",
      "  warn(msg)\n"
     ]
    }
   ],
   "source": [
    "def read_xlsx_files(directory):\n",
    "    \"\"\"Reads all xlsx files in a given directory and combines them into a single DataFrame.\"\"\"\n",
    "    all_dfs = []\n",
    "\n",
    "    for file in os.listdir(directory):\n",
    "        if file.endswith(\".xlsx\"):\n",
    "            file_path = os.path.join(directory, file)\n",
    "            df = pd.read_excel(file_path)\n",
    "            all_dfs.append(df)\n",
    "\n",
    "    if all_dfs:\n",
    "        combined_df = pd.concat(all_dfs, ignore_index=True)\n",
    "        return combined_df\n",
    "    else:\n",
    "        print(\"No xlsx files found in the directory.\")\n",
    "        return None\n",
    "\n",
    "\n",
    "# Example usage\n",
    "directory_path = \"./data/Tibet\"  # Change this to your directory path\n",
    "df = read_xlsx_files(directory_path)"
   ]
  },
  {
   "cell_type": "code",
   "execution_count": 15,
   "metadata": {},
   "outputs": [],
   "source": [
    "df = df[df[\"Verified\"] == \"V\"]"
   ]
  },
  {
   "cell_type": "code",
   "execution_count": 18,
   "metadata": {},
   "outputs": [],
   "source": [
    "df = df[[\"SN_Lat\", \"SN_Long\", \"name\"]]"
   ]
  },
  {
   "cell_type": "code",
   "execution_count": 19,
   "metadata": {},
   "outputs": [
    {
     "data": {
      "text/plain": [
       "1376"
      ]
     },
     "execution_count": 19,
     "metadata": {},
     "output_type": "execute_result"
    }
   ],
   "source": [
    "len(df)"
   ]
  },
  {
   "cell_type": "code",
   "execution_count": 20,
   "metadata": {},
   "outputs": [],
   "source": [
    "df.to_csv(\"monasteries.csv\", index=False)"
   ]
  },
  {
   "cell_type": "code",
   "execution_count": 21,
   "metadata": {},
   "outputs": [
    {
     "data": {
      "application/vnd.microsoft.datawrangler.viewer.v0+json": {
       "columns": [
        {
         "name": "index",
         "rawType": "int64",
         "type": "integer"
        },
        {
         "name": "SN_Lat",
         "rawType": "object",
         "type": "unknown"
        },
        {
         "name": "SN_Long",
         "rawType": "object",
         "type": "unknown"
        },
        {
         "name": "name",
         "rawType": "object",
         "type": "string"
        }
       ],
       "conversionMethod": "pd.DataFrame",
       "ref": "fb01cf05-17d8-42f2-ac79-fa4cea983bed",
       "rows": [
        [
         "1",
         "33.760316",
         "101.242505",
         "bye gshong ser sde/; 木西合新寺"
        ],
        [
         "3",
         "35.398009",
         "102.406985",
         "ri ngar bkra shis dge 'phel dgon/"
        ],
        [
         "5",
         "33.914861",
         "103.991871",
         "chu bar dgon/; 楚哇寺"
        ],
        [
         "7",
         "34.812033",
         "102.688046",
         "阿木去乎寺; a mchog dgon/"
        ],
        [
         "8",
         "34.9969651480857",
         "103.050647661595",
         "Dzodge Garnying Ganden Tashi Chopeling; mdzod dge sgar rnying /"
        ],
        [
         "9",
         "33.410179",
         "102.247078",
         "mtshe'u ru ma'i ser sde/; 采日玛塞德寺"
        ],
        [
         "10",
         "34.98454",
         "102.7724",
         "扎油寺; tsa yus dgon/; Tsayu Gon Ganden Chopeling"
        ],
        [
         "12",
         "34.515406",
         "103.704604",
         "rna lung ri khrod/; 那朗静修院"
        ],
        [
         "13",
         "34.120438",
         "103.502296",
         "桑周寺; kha pa'i bsam grub bon dgon/"
        ],
        [
         "14",
         "37.729292",
         "102.222344",
         "hor dgon/; 毛藏寺"
        ],
        [
         "15",
         "34.08223",
         "103.476055",
         "rang gong ma dgon/; 绕贡玛寺"
        ],
        [
         "16",
         "33.755623",
         "104.253641",
         "帮当寺; spang gdong dgon/"
        ],
        [
         "17",
         "33.977889",
         "103.497914",
         "kha pa klung dgon/; 卡巴路寺"
        ],
        [
         "18",
         "34.473057",
         "103.107239",
         "chos dpal zhing dgon pa/; 车巴沟寺"
        ],
        [
         "19",
         "37.191439",
         "103.377979",
         "祝贡寺; 'bri gung dgon/"
        ],
        [
         "20",
         "33.988978",
         "103.877818",
         "tA ka dgon/; 达嘎寺"
        ],
        [
         "21",
         "33.403146",
         "101.951405",
         "齐哈玛寺; chu kha ma'i dgon/"
        ],
        [
         "22",
         "34.222947",
         "103.029173",
         "rta 'dogs dgon/; 当多寺"
        ],
        [
         "23",
         "34.637238",
         "102.222017",
         "科才寺; kho tshe sgar/"
        ],
        [
         "24",
         "33.824841",
         "103.766568",
         "'a zha yar spungs dgon/; 雅黄寺"
        ],
        [
         "25",
         "35.093095",
         "102.921597",
         "卡加旧寺; kha gya'i sgar rnying /; Khagya Garnying Gon"
        ],
        [
         "26",
         "34.013563",
         "103.456371",
         "nying sgam dgon/; 娘岗寺"
        ],
        [
         "27",
         "33.98725",
         "103.979665",
         "ri dwangs gtsang nyid dgon/; 洛大藏尼寺"
        ],
        [
         "28",
         "34.8356416135761",
         "103.18690520744",
         "白石崖寺; a 'khor dgon/"
        ],
        [
         "29",
         "34.073557",
         "101.709919",
         "欧拉念涛寺; dngul rwa gnyan thog dgon/"
        ],
        [
         "30",
         "34.040216",
         "103.792153",
         "赛塘寺; gser thang dgon/"
        ],
        [
         "31",
         "35.031567",
         "103.515979",
         "khang thog dgon/; 康多寺"
        ],
        [
         "33",
         "37.185613",
         "102.79453",
         "rig ldan dga' tshal dgon/; 柔旦尕擦寺"
        ],
        [
         "34",
         "35.1926825420444",
         "102.506356293484",
         "bla brang sngags pa grwa tshang /; 崖玉新寺"
        ],
        [
         "37",
         "37.466613",
         "102.574616",
         "rgya yag dgon/; 红沟下寺"
        ],
        [
         "40",
         "34.610592",
         "102.838987",
         "sgyis tshang nags ri dgon/; 吉仓纳日寺"
        ],
        [
         "41",
         "34.635427",
         "102.898904",
         "a la de'u mgo'i dgon/; 阿拉丁果寺"
        ],
        [
         "44",
         "33.458231",
         "104.427252",
         "chu gdong dgon pa/; 坚地寺扎西曲登寺"
        ],
        [
         "46",
         "37.10465",
         "103.397593",
         "达隆寺; zung zhan stag lung dgon/"
        ],
        [
         "47",
         "34.134166",
         "103.219659",
         "bze kha dgon/; 日盖寺"
        ],
        [
         "52",
         "34.791899",
         "103.151908",
         "mkhar mo che dgon pa/; 康木车寺"
        ],
        [
         "53",
         "34.5703170055923",
         "102.562231173869",
         "shis tshang sgar gsar/; 西仓新寺"
        ],
        [
         "55",
         "33.600539",
         "104.328352",
         "mda' hwa dgon/; 达哈寺"
        ],
        [
         "56",
         "34.101692",
         "103.465569",
         "tsha kho dgon/; 查古寺"
        ],
        [
         "57",
         "35.271667",
         "102.801954",
         "gnam lha'i sgar sar/"
        ],
        [
         "58",
         "36.977282",
         "103.135487",
         "华藏寺; pra sti rab rgyas dgon pa/"
        ],
        [
         "59",
         "33.716121",
         "104.149695",
         "yag hwa dgon/; 亚哈寺"
        ],
        [
         "60",
         "34.9409827286901",
         "102.855659020403",
         "合作寺; gtsos dgon pa/; Tso Gon Genden Choling"
        ],
        [
         "61",
         "33.583068",
         "104.350886",
         "phud sdod bkra shis lhun po/; 占西隆布寺"
        ],
        [
         "62",
         "35.380058",
         "102.585854",
         "rgan rgya rtse zhig dgon/; 甘加佐海寺; Tsezhik"
        ],
        [
         "63",
         "33.603847",
         "104.517226",
         "ong gsum dgon/; 巴楞寺"
        ],
        [
         "64",
         "33.806315",
         "103.882019",
         "rdo ri ra rtsa dgon/; 多尔然子寺"
        ],
        [
         "67",
         "33.646932",
         "104.404404",
         "bu bde dgon pa/; 高地寺"
        ],
        [
         "68",
         "33.803287",
         "103.693631",
         "纳高寺; nags gong bon po'i dgon/"
        ],
        [
         "69",
         "34.835635",
         "103.186918",
         "a 'khor brag dkar ri khrod/; 安科尔白石崖静修院"
        ]
       ],
       "shape": {
        "columns": 3,
        "rows": 1376
       }
      },
      "text/html": [
       "<div>\n",
       "<style scoped>\n",
       "    .dataframe tbody tr th:only-of-type {\n",
       "        vertical-align: middle;\n",
       "    }\n",
       "\n",
       "    .dataframe tbody tr th {\n",
       "        vertical-align: top;\n",
       "    }\n",
       "\n",
       "    .dataframe thead th {\n",
       "        text-align: right;\n",
       "    }\n",
       "</style>\n",
       "<table border=\"1\" class=\"dataframe\">\n",
       "  <thead>\n",
       "    <tr style=\"text-align: right;\">\n",
       "      <th></th>\n",
       "      <th>SN_Lat</th>\n",
       "      <th>SN_Long</th>\n",
       "      <th>name</th>\n",
       "    </tr>\n",
       "  </thead>\n",
       "  <tbody>\n",
       "    <tr>\n",
       "      <th>1</th>\n",
       "      <td>33.760316</td>\n",
       "      <td>101.242505</td>\n",
       "      <td>bye gshong ser sde/; 木西合新寺</td>\n",
       "    </tr>\n",
       "    <tr>\n",
       "      <th>3</th>\n",
       "      <td>35.398009</td>\n",
       "      <td>102.406985</td>\n",
       "      <td>ri ngar bkra shis dge 'phel dgon/</td>\n",
       "    </tr>\n",
       "    <tr>\n",
       "      <th>5</th>\n",
       "      <td>33.914861</td>\n",
       "      <td>103.991871</td>\n",
       "      <td>chu bar dgon/; 楚哇寺</td>\n",
       "    </tr>\n",
       "    <tr>\n",
       "      <th>7</th>\n",
       "      <td>34.812033</td>\n",
       "      <td>102.688046</td>\n",
       "      <td>阿木去乎寺; a mchog dgon/</td>\n",
       "    </tr>\n",
       "    <tr>\n",
       "      <th>8</th>\n",
       "      <td>34.996965</td>\n",
       "      <td>103.050648</td>\n",
       "      <td>Dzodge Garnying Ganden Tashi Chopeling; mdzod ...</td>\n",
       "    </tr>\n",
       "    <tr>\n",
       "      <th>...</th>\n",
       "      <td>...</td>\n",
       "      <td>...</td>\n",
       "      <td>...</td>\n",
       "    </tr>\n",
       "    <tr>\n",
       "      <th>2650</th>\n",
       "      <td>35.207784</td>\n",
       "      <td>101.782695</td>\n",
       "      <td>dme shul sngags khang /; 麦秀俄莽寺</td>\n",
       "    </tr>\n",
       "    <tr>\n",
       "      <th>2651</th>\n",
       "      <td>35.061016</td>\n",
       "      <td>101.797502</td>\n",
       "      <td>多嘎俄合莽寺; rdo dkar sngags mang /</td>\n",
       "    </tr>\n",
       "    <tr>\n",
       "      <th>2653</th>\n",
       "      <td>35.273672</td>\n",
       "      <td>101.932706</td>\n",
       "      <td>宗玛寺; rdzong dmar dgon/</td>\n",
       "    </tr>\n",
       "    <tr>\n",
       "      <th>2654</th>\n",
       "      <td>35.228814</td>\n",
       "      <td>101.002423</td>\n",
       "      <td>和日寺; hor dgon/</td>\n",
       "    </tr>\n",
       "    <tr>\n",
       "      <th>2656</th>\n",
       "      <td>36.759566</td>\n",
       "      <td>102.180903</td>\n",
       "      <td>Gonlung Jampa Ling</td>\n",
       "    </tr>\n",
       "  </tbody>\n",
       "</table>\n",
       "<p>1376 rows × 3 columns</p>\n",
       "</div>"
      ],
      "text/plain": [
       "         SN_Lat     SN_Long                                               name\n",
       "1     33.760316  101.242505                         bye gshong ser sde/; 木西合新寺\n",
       "3     35.398009  102.406985                  ri ngar bkra shis dge 'phel dgon/\n",
       "5     33.914861  103.991871                                 chu bar dgon/; 楚哇寺\n",
       "7     34.812033  102.688046                               阿木去乎寺; a mchog dgon/\n",
       "8     34.996965  103.050648  Dzodge Garnying Ganden Tashi Chopeling; mdzod ...\n",
       "...         ...         ...                                                ...\n",
       "2650  35.207784  101.782695                     dme shul sngags khang /; 麦秀俄莽寺\n",
       "2651  35.061016  101.797502                     多嘎俄合莽寺; rdo dkar sngags mang /\n",
       "2653  35.273672  101.932706                             宗玛寺; rdzong dmar dgon/\n",
       "2654  35.228814  101.002423                                     和日寺; hor dgon/\n",
       "2656  36.759566  102.180903                                 Gonlung Jampa Ling\n",
       "\n",
       "[1376 rows x 3 columns]"
      ]
     },
     "execution_count": 21,
     "metadata": {},
     "output_type": "execute_result"
    }
   ],
   "source": [
    "df"
   ]
  },
  {
   "cell_type": "code",
   "execution_count": null,
   "metadata": {},
   "outputs": [],
   "source": []
  }
 ],
 "metadata": {
  "kernelspec": {
   "display_name": ".env",
   "language": "python",
   "name": "python3"
  },
  "language_info": {
   "codemirror_mode": {
    "name": "ipython",
    "version": 3
   },
   "file_extension": ".py",
   "mimetype": "text/x-python",
   "name": "python",
   "nbconvert_exporter": "python",
   "pygments_lexer": "ipython3",
   "version": "3.12.3"
  }
 },
 "nbformat": 4,
 "nbformat_minor": 2
}
